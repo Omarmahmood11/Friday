{
 "cells": [
  {
   "cell_type": "code",
   "execution_count": 31,
   "id": "6c795844",
   "metadata": {},
   "outputs": [],
   "source": [
    "import numpy as np\n",
    "import pandas as pd\n",
    "import matplotlib.pyplot as plt"
   ]
  },
  {
   "cell_type": "code",
   "execution_count": 32,
   "id": "b4f22211",
   "metadata": {},
   "outputs": [
    {
     "data": {
      "text/html": [
       "<div>\n",
       "<style scoped>\n",
       "    .dataframe tbody tr th:only-of-type {\n",
       "        vertical-align: middle;\n",
       "    }\n",
       "\n",
       "    .dataframe tbody tr th {\n",
       "        vertical-align: top;\n",
       "    }\n",
       "\n",
       "    .dataframe thead th {\n",
       "        text-align: right;\n",
       "    }\n",
       "</style>\n",
       "<table border=\"1\" class=\"dataframe\">\n",
       "  <thead>\n",
       "    <tr style=\"text-align: right;\">\n",
       "      <th></th>\n",
       "      <th>Date</th>\n",
       "      <th>Open</th>\n",
       "      <th>High</th>\n",
       "      <th>Low</th>\n",
       "      <th>Close</th>\n",
       "      <th>Adj Close</th>\n",
       "      <th>Volume</th>\n",
       "    </tr>\n",
       "  </thead>\n",
       "  <tbody>\n",
       "    <tr>\n",
       "      <th>0</th>\n",
       "      <td>2010-06-29</td>\n",
       "      <td>19.000000</td>\n",
       "      <td>25.00</td>\n",
       "      <td>17.540001</td>\n",
       "      <td>23.889999</td>\n",
       "      <td>23.889999</td>\n",
       "      <td>18766300</td>\n",
       "    </tr>\n",
       "    <tr>\n",
       "      <th>1</th>\n",
       "      <td>2010-06-30</td>\n",
       "      <td>25.790001</td>\n",
       "      <td>30.42</td>\n",
       "      <td>23.299999</td>\n",
       "      <td>23.830000</td>\n",
       "      <td>23.830000</td>\n",
       "      <td>17187100</td>\n",
       "    </tr>\n",
       "    <tr>\n",
       "      <th>2</th>\n",
       "      <td>2010-07-01</td>\n",
       "      <td>25.000000</td>\n",
       "      <td>25.92</td>\n",
       "      <td>20.270000</td>\n",
       "      <td>21.959999</td>\n",
       "      <td>21.959999</td>\n",
       "      <td>8218800</td>\n",
       "    </tr>\n",
       "    <tr>\n",
       "      <th>3</th>\n",
       "      <td>2010-07-02</td>\n",
       "      <td>23.000000</td>\n",
       "      <td>23.10</td>\n",
       "      <td>18.709999</td>\n",
       "      <td>19.200001</td>\n",
       "      <td>19.200001</td>\n",
       "      <td>5139800</td>\n",
       "    </tr>\n",
       "    <tr>\n",
       "      <th>4</th>\n",
       "      <td>2010-07-06</td>\n",
       "      <td>20.000000</td>\n",
       "      <td>20.00</td>\n",
       "      <td>15.830000</td>\n",
       "      <td>16.110001</td>\n",
       "      <td>16.110001</td>\n",
       "      <td>6866900</td>\n",
       "    </tr>\n",
       "  </tbody>\n",
       "</table>\n",
       "</div>"
      ],
      "text/plain": [
       "         Date       Open   High        Low      Close  Adj Close    Volume\n",
       "0  2010-06-29  19.000000  25.00  17.540001  23.889999  23.889999  18766300\n",
       "1  2010-06-30  25.790001  30.42  23.299999  23.830000  23.830000  17187100\n",
       "2  2010-07-01  25.000000  25.92  20.270000  21.959999  21.959999   8218800\n",
       "3  2010-07-02  23.000000  23.10  18.709999  19.200001  19.200001   5139800\n",
       "4  2010-07-06  20.000000  20.00  15.830000  16.110001  16.110001   6866900"
      ]
     },
     "execution_count": 32,
     "metadata": {},
     "output_type": "execute_result"
    }
   ],
   "source": [
    "df=pd.read_csv('TSLA.csv')\n",
    "df.head()"
   ]
  },
  {
   "cell_type": "code",
   "execution_count": 33,
   "id": "ce5a1df6",
   "metadata": {},
   "outputs": [
    {
     "name": "stdout",
     "output_type": "stream",
     "text": [
      "            Open\n",
      "0      19.000000\n",
      "1      25.790001\n",
      "2      25.000000\n",
      "3      23.000000\n",
      "4      20.000000\n",
      "...          ...\n",
      "2411  568.489990\n",
      "2412  575.690002\n",
      "2413  632.419983\n",
      "2414  640.000000\n",
      "2415  673.690002\n",
      "\n",
      "[2416 rows x 1 columns]\n",
      "(2416, 1)\n"
     ]
    }
   ],
   "source": [
    "x=df.iloc[:,1:2]\n",
    "print(x)\n",
    "print(x.shape)"
   ]
  },
  {
   "cell_type": "code",
   "execution_count": 34,
   "id": "254628d3",
   "metadata": {},
   "outputs": [
    {
     "data": {
      "text/plain": [
       "array([[0.00434948],\n",
       "       [0.01467569],\n",
       "       [0.01347426],\n",
       "       ...,\n",
       "       [0.93723668],\n",
       "       [0.94876435],\n",
       "       [1.        ]])"
      ]
     },
     "execution_count": 34,
     "metadata": {},
     "output_type": "execute_result"
    }
   ],
   "source": [
    "from sklearn.preprocessing import MinMaxScaler\n",
    "scaler=MinMaxScaler(feature_range=(0,1))\n",
    "x_scaled=scaler.fit_transform(x)\n",
    "x_scaled"
   ]
  },
  {
   "cell_type": "code",
   "execution_count": 35,
   "id": "b0be3e54",
   "metadata": {},
   "outputs": [],
   "source": [
    "x_train = []\n",
    "y_train = []\n",
    "\n",
    "for i in range(60, 1258):\n",
    "    x_train.append(x_scaled[i-60:i, 0])\n",
    "    y_train.append(x_scaled[i, 0])\n",
    "\n",
    "x_train = np.array(x_train)\n",
    "y_train = np.array(y_train)"
   ]
  },
  {
   "cell_type": "code",
   "execution_count": 36,
   "id": "2a5da016",
   "metadata": {},
   "outputs": [
    {
     "name": "stdout",
     "output_type": "stream",
     "text": [
      "(1198, 60)\n",
      "(1198,)\n"
     ]
    }
   ],
   "source": [
    "print(x_train.shape)\n",
    "print(y_train.shape)"
   ]
  },
  {
   "cell_type": "code",
   "execution_count": 37,
   "id": "76addcec",
   "metadata": {},
   "outputs": [
    {
     "data": {
      "text/plain": [
       "(1198, 60, 1)"
      ]
     },
     "execution_count": 37,
     "metadata": {},
     "output_type": "execute_result"
    }
   ],
   "source": [
    "x_train = x_train.reshape((x_train.shape[0], x_train.shape[1], 1))\n",
    "x_train.shape"
   ]
  },
  {
   "cell_type": "code",
   "execution_count": 38,
   "id": "3535952f",
   "metadata": {},
   "outputs": [],
   "source": [
    "from sklearn.model_selection import train_test_split\n",
    "x_train, x_test, y_train, y_test = train_test_split(x_train, y_train, test_size=0.2, random_state=42)"
   ]
  },
  {
   "cell_type": "code",
   "execution_count": 39,
   "id": "9a2e5e51",
   "metadata": {},
   "outputs": [],
   "source": [
    "x_test = []\n",
    "y_test = []\n",
    "for i in range(60, len(x_scaled)):\n",
    "    x_test.append(x_scaled[i-60:i, 0])\n",
    "    y_test.append(x_scaled[i, 0])\n",
    "\n",
    "x_test = np.array(x_test)\n",
    "y_test = np.array(y_test)"
   ]
  },
  {
   "cell_type": "code",
   "execution_count": 40,
   "id": "676cdb60",
   "metadata": {},
   "outputs": [],
   "source": [
    "x_test = np.reshape(x_test, (x_test.shape[0], x_test.shape[1], 1))"
   ]
  },
  {
   "cell_type": "code",
   "execution_count": 41,
   "id": "2d9d8a7d",
   "metadata": {},
   "outputs": [],
   "source": [
    "from keras.models import Sequential\n",
    "from keras.layers import Dense,LSTM,Dropout"
   ]
  },
  {
   "cell_type": "code",
   "execution_count": 42,
   "id": "96061a00",
   "metadata": {},
   "outputs": [],
   "source": [
    "regressor=Sequential()\n",
    "regressor.add(LSTM(units=50, return_sequences=True,input_shape=(x_train.shape[1],1)))\n",
    "regressor.add(Dropout(0.2))\n",
    "regressor.add(LSTM(units=50, return_sequences=True))\n",
    "regressor.add(Dropout(0.2))\n",
    "regressor.add(LSTM(units=50, return_sequences=True))\n",
    "regressor.add(Dropout(0.2))\n",
    "regressor.add(LSTM(units=50))\n",
    "regressor.add(Dropout(0.2))\n",
    "regressor.add(Dense(units=1))"
   ]
  },
  {
   "cell_type": "code",
   "execution_count": 43,
   "id": "93486030",
   "metadata": {
    "scrolled": false
   },
   "outputs": [
    {
     "name": "stdout",
     "output_type": "stream",
     "text": [
      "Epoch 1/100\n",
      "30/30 [==============================] - 6s 48ms/step - loss: 0.0030\n",
      "Epoch 2/100\n",
      "30/30 [==============================] - 1s 47ms/step - loss: 6.2527e-04\n",
      "Epoch 3/100\n",
      "30/30 [==============================] - 1s 47ms/step - loss: 4.7295e-04\n",
      "Epoch 4/100\n",
      "30/30 [==============================] - 1s 47ms/step - loss: 3.8572e-04\n",
      "Epoch 5/100\n",
      "30/30 [==============================] - 1s 48ms/step - loss: 4.1079e-04\n",
      "Epoch 6/100\n",
      "30/30 [==============================] - 1s 47ms/step - loss: 3.8547e-04\n",
      "Epoch 7/100\n",
      "30/30 [==============================] - 1s 47ms/step - loss: 3.2984e-04\n",
      "Epoch 8/100\n",
      "30/30 [==============================] - 1s 48ms/step - loss: 3.7442e-04\n",
      "Epoch 9/100\n",
      "30/30 [==============================] - 1s 47ms/step - loss: 3.4319e-04\n",
      "Epoch 10/100\n",
      "30/30 [==============================] - 1s 47ms/step - loss: 3.4726e-04\n",
      "Epoch 11/100\n",
      "30/30 [==============================] - 1s 48ms/step - loss: 2.8683e-04\n",
      "Epoch 12/100\n",
      "30/30 [==============================] - 1s 48ms/step - loss: 3.4894e-04\n",
      "Epoch 13/100\n",
      "30/30 [==============================] - 1s 47ms/step - loss: 3.2790e-04\n",
      "Epoch 14/100\n",
      "30/30 [==============================] - 1s 47ms/step - loss: 2.9497e-04\n",
      "Epoch 15/100\n",
      "30/30 [==============================] - 1s 48ms/step - loss: 2.6627e-04\n",
      "Epoch 16/100\n",
      "30/30 [==============================] - 1s 47ms/step - loss: 2.6505e-04\n",
      "Epoch 17/100\n",
      "30/30 [==============================] - 1s 49ms/step - loss: 2.6928e-04\n",
      "Epoch 18/100\n",
      "30/30 [==============================] - 1s 48ms/step - loss: 2.2874e-04\n",
      "Epoch 19/100\n",
      "30/30 [==============================] - 1s 49ms/step - loss: 2.4008e-04\n",
      "Epoch 20/100\n",
      "30/30 [==============================] - 1s 48ms/step - loss: 2.6349e-04\n",
      "Epoch 21/100\n",
      "30/30 [==============================] - 1s 47ms/step - loss: 2.6330e-04\n",
      "Epoch 22/100\n",
      "30/30 [==============================] - 1s 48ms/step - loss: 2.2687e-04\n",
      "Epoch 23/100\n",
      "30/30 [==============================] - 1s 47ms/step - loss: 2.1633e-04\n",
      "Epoch 24/100\n",
      "30/30 [==============================] - 1s 47ms/step - loss: 2.1547e-04\n",
      "Epoch 25/100\n",
      "30/30 [==============================] - 1s 47ms/step - loss: 2.8504e-04\n",
      "Epoch 26/100\n",
      "30/30 [==============================] - 1s 48ms/step - loss: 2.2895e-04\n",
      "Epoch 27/100\n",
      "30/30 [==============================] - 1s 47ms/step - loss: 2.2580e-04\n",
      "Epoch 28/100\n",
      "30/30 [==============================] - 1s 47ms/step - loss: 2.0779e-04\n",
      "Epoch 29/100\n",
      "30/30 [==============================] - 1s 48ms/step - loss: 2.5581e-04\n",
      "Epoch 30/100\n",
      "30/30 [==============================] - 1s 47ms/step - loss: 2.5946e-04\n",
      "Epoch 31/100\n",
      "30/30 [==============================] - 1s 47ms/step - loss: 2.3407e-04\n",
      "Epoch 32/100\n",
      "30/30 [==============================] - 1s 47ms/step - loss: 2.0606e-04\n",
      "Epoch 33/100\n",
      "30/30 [==============================] - 1s 48ms/step - loss: 2.0004e-04\n",
      "Epoch 34/100\n",
      "30/30 [==============================] - 1s 47ms/step - loss: 2.2061e-04\n",
      "Epoch 35/100\n",
      "30/30 [==============================] - 1s 47ms/step - loss: 2.2977e-04\n",
      "Epoch 36/100\n",
      "30/30 [==============================] - 1s 48ms/step - loss: 1.9070e-04\n",
      "Epoch 37/100\n",
      "30/30 [==============================] - 1s 48ms/step - loss: 2.5143e-04\n",
      "Epoch 38/100\n",
      "30/30 [==============================] - 1s 47ms/step - loss: 2.0945e-04\n",
      "Epoch 39/100\n",
      "30/30 [==============================] - 1s 47ms/step - loss: 2.1621e-04\n",
      "Epoch 40/100\n",
      "30/30 [==============================] - 1s 48ms/step - loss: 2.1114e-04\n",
      "Epoch 41/100\n",
      "30/30 [==============================] - 1s 47ms/step - loss: 2.0949e-04\n",
      "Epoch 42/100\n",
      "30/30 [==============================] - 1s 48ms/step - loss: 1.7769e-04\n",
      "Epoch 43/100\n",
      "30/30 [==============================] - 1s 49ms/step - loss: 1.9360e-04\n",
      "Epoch 44/100\n",
      "30/30 [==============================] - 1s 48ms/step - loss: 2.1963e-04\n",
      "Epoch 45/100\n",
      "30/30 [==============================] - 1s 47ms/step - loss: 1.9112e-04\n",
      "Epoch 46/100\n",
      "30/30 [==============================] - 1s 48ms/step - loss: 1.7737e-04\n",
      "Epoch 47/100\n",
      "30/30 [==============================] - 1s 48ms/step - loss: 1.7990e-04\n",
      "Epoch 48/100\n",
      "30/30 [==============================] - 1s 47ms/step - loss: 1.8772e-04\n",
      "Epoch 49/100\n",
      "30/30 [==============================] - 1s 47ms/step - loss: 1.9019e-04\n",
      "Epoch 50/100\n",
      "30/30 [==============================] - 1s 48ms/step - loss: 1.8183e-04\n",
      "Epoch 51/100\n",
      "30/30 [==============================] - 1s 48ms/step - loss: 1.6332e-04\n",
      "Epoch 52/100\n",
      "30/30 [==============================] - 1s 47ms/step - loss: 1.7142e-04\n",
      "Epoch 53/100\n",
      "30/30 [==============================] - 1s 47ms/step - loss: 1.9089e-04\n",
      "Epoch 54/100\n",
      "30/30 [==============================] - 1s 48ms/step - loss: 1.9177e-04\n",
      "Epoch 55/100\n",
      "30/30 [==============================] - 1s 47ms/step - loss: 2.1320e-04\n",
      "Epoch 56/100\n",
      "30/30 [==============================] - 1s 47ms/step - loss: 1.6403e-04\n",
      "Epoch 57/100\n",
      "30/30 [==============================] - 1s 48ms/step - loss: 1.7333e-04\n",
      "Epoch 58/100\n",
      "30/30 [==============================] - 1s 48ms/step - loss: 1.7389e-04\n",
      "Epoch 59/100\n",
      "30/30 [==============================] - 1s 47ms/step - loss: 1.6020e-04\n",
      "Epoch 60/100\n",
      "30/30 [==============================] - 1s 47ms/step - loss: 1.6265e-04\n",
      "Epoch 61/100\n",
      "30/30 [==============================] - 1s 48ms/step - loss: 1.9294e-04\n",
      "Epoch 62/100\n",
      "30/30 [==============================] - 1s 47ms/step - loss: 1.7249e-04\n",
      "Epoch 63/100\n",
      "30/30 [==============================] - 1s 48ms/step - loss: 1.5735e-04\n",
      "Epoch 64/100\n",
      "30/30 [==============================] - 1s 49ms/step - loss: 1.8557e-04\n",
      "Epoch 65/100\n",
      "30/30 [==============================] - 1s 50ms/step - loss: 1.8659e-04\n",
      "Epoch 66/100\n",
      "30/30 [==============================] - 1s 48ms/step - loss: 1.5061e-04\n",
      "Epoch 67/100\n",
      "30/30 [==============================] - 1s 48ms/step - loss: 1.4993e-04\n",
      "Epoch 68/100\n",
      "30/30 [==============================] - 1s 48ms/step - loss: 1.6008e-04\n",
      "Epoch 69/100\n",
      "30/30 [==============================] - 1s 47ms/step - loss: 1.5875e-04\n",
      "Epoch 70/100\n",
      "30/30 [==============================] - 1s 48ms/step - loss: 1.4056e-04\n",
      "Epoch 71/100\n",
      "30/30 [==============================] - 1s 48ms/step - loss: 1.4724e-04\n",
      "Epoch 72/100\n",
      "30/30 [==============================] - 1s 48ms/step - loss: 1.4211e-04\n",
      "Epoch 73/100\n",
      "30/30 [==============================] - 1s 47ms/step - loss: 1.3923e-04\n",
      "Epoch 74/100\n",
      "30/30 [==============================] - 1s 48ms/step - loss: 1.6193e-04\n",
      "Epoch 75/100\n",
      "30/30 [==============================] - 1s 48ms/step - loss: 1.7536e-04\n",
      "Epoch 76/100\n",
      "30/30 [==============================] - 1s 47ms/step - loss: 1.4722e-04\n",
      "Epoch 77/100\n",
      "30/30 [==============================] - 1s 47ms/step - loss: 1.5549e-04\n",
      "Epoch 78/100\n",
      "30/30 [==============================] - 1s 47ms/step - loss: 1.6538e-04\n",
      "Epoch 79/100\n",
      "30/30 [==============================] - 1s 48ms/step - loss: 1.8295e-04\n",
      "Epoch 80/100\n",
      "30/30 [==============================] - 1s 47ms/step - loss: 1.3301e-04\n",
      "Epoch 81/100\n",
      "30/30 [==============================] - 1s 47ms/step - loss: 1.4590e-04\n",
      "Epoch 82/100\n",
      "30/30 [==============================] - 1s 48ms/step - loss: 1.5531e-04\n",
      "Epoch 83/100\n",
      "30/30 [==============================] - 1s 47ms/step - loss: 1.5630e-04\n",
      "Epoch 84/100\n",
      "30/30 [==============================] - 1s 47ms/step - loss: 1.4284e-04\n",
      "Epoch 85/100\n",
      "30/30 [==============================] - 1s 47ms/step - loss: 1.6302e-04\n",
      "Epoch 86/100\n",
      "30/30 [==============================] - 1s 48ms/step - loss: 1.5901e-04\n",
      "Epoch 87/100\n",
      "30/30 [==============================] - 1s 47ms/step - loss: 1.5670e-04\n",
      "Epoch 88/100\n",
      "30/30 [==============================] - 1s 47ms/step - loss: 1.4547e-04\n",
      "Epoch 89/100\n",
      "30/30 [==============================] - 1s 49ms/step - loss: 1.4195e-04\n",
      "Epoch 90/100\n",
      "30/30 [==============================] - 1s 48ms/step - loss: 1.6433e-04\n",
      "Epoch 91/100\n",
      "30/30 [==============================] - 1s 48ms/step - loss: 1.5065e-04\n",
      "Epoch 92/100\n",
      "30/30 [==============================] - 1s 48ms/step - loss: 1.4914e-04\n",
      "Epoch 93/100\n",
      "30/30 [==============================] - 1s 48ms/step - loss: 1.5120e-04\n",
      "Epoch 94/100\n",
      "30/30 [==============================] - 1s 47ms/step - loss: 1.1743e-04\n",
      "Epoch 95/100\n",
      "30/30 [==============================] - 1s 47ms/step - loss: 1.3883e-04\n",
      "Epoch 96/100\n",
      "30/30 [==============================] - 1s 49ms/step - loss: 1.4207e-04\n",
      "Epoch 97/100\n",
      "30/30 [==============================] - 1s 48ms/step - loss: 1.4444e-04\n",
      "Epoch 98/100\n",
      "30/30 [==============================] - 1s 47ms/step - loss: 1.2487e-04\n",
      "Epoch 99/100\n",
      "30/30 [==============================] - 1s 47ms/step - loss: 1.3062e-04\n",
      "Epoch 100/100\n",
      "30/30 [==============================] - 1s 48ms/step - loss: 1.2058e-04\n"
     ]
    },
    {
     "data": {
      "text/plain": [
       "<keras.callbacks.History at 0x19db9776610>"
      ]
     },
     "execution_count": 43,
     "metadata": {},
     "output_type": "execute_result"
    }
   ],
   "source": [
    "regressor.compile(optimizer='adam',loss='huber')\n",
    "regressor.fit(x_train,y_train,epochs=100,batch_size=32)"
   ]
  },
  {
   "cell_type": "code",
   "execution_count": 44,
   "id": "82279f15",
   "metadata": {},
   "outputs": [
    {
     "name": "stdout",
     "output_type": "stream",
     "text": [
      "74/74 [==============================] - 2s 16ms/step\n"
     ]
    }
   ],
   "source": [
    "predicted_stock_price = regressor.predict(x_test)\n",
    "predicted_stock_price = scaler.inverse_transform(predicted_stock_price)"
   ]
  },
  {
   "cell_type": "code",
   "execution_count": 45,
   "id": "a7272c41",
   "metadata": {},
   "outputs": [
    {
     "data": {
      "image/png": "[encoded data removed]",
      "text/plain": [
       "<Figure size 640x480 with 1 Axes>"
      ]
     },
     "metadata": {},
     "output_type": "display_data"
    }
   ],
   "source": [
    "plt.plot(df['Date'][len(df) - len(predicted_stock_price):], df['Close'][len(df) - len(predicted_stock_price):], color='red', label='Actual TSLA Stock Price')\n",
    "plt.plot(df['Date'][len(df) - len(predicted_stock_price):], predicted_stock_price, color='blue', label='Predicted TSLA Stock Price')\n",
    "plt.title('TSLA Stock Price Prediction')\n",
    "plt.xlabel('Date')\n",
    "plt.ylabel('Stock Price')\n",
    "plt.legend()\n",
    "plt.show()"
   ]
  }
 ],
 "metadata": {
  "kernelspec": {
   "display_name": "Python 3 (ipykernel)",
   "language": "python",
   "name": "python3"
  },
  "language_info": {
   "codemirror_mode": {
    "name": "ipython",
    "version": 3
   },
   "file_extension": ".py",
   "mimetype": "text/x-python",
   "name": "python",
   "nbconvert_exporter": "python",
   "pygments_lexer": "ipython3",
   "version": "3.9.13"
  }
 },
 "nbformat": 4,
 "nbformat_minor": 5
}
